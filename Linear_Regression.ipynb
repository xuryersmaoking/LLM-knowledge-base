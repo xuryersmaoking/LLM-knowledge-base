{
 "cells": [
  {
   "cell_type": "markdown",
   "id": "27b7ce4a-8268-4b7a-ab18-e30e64dbca35",
   "metadata": {},
   "source": [
    "**线性回归：**"
   ]
  },
  {
   "cell_type": "markdown",
   "id": "93463eb5-7e74-40b3-ae71-8a1e32da914d",
   "metadata": {},
   "source": [
    "研究因变量（目标）和自变量（特征）之间的关系"
   ]
  },
  {
   "cell_type": "markdown",
   "id": "4a578051-35a2-4395-bd28-d6a27ff7d1ba",
   "metadata": {},
   "source": [
    "将特征向量x=(x_1,x_2,...x_m)  \n",
    "加权权重向量表示为w=(w_1,w_2,...w_m)\n",
    "$$\n",
    "y=w^T\\cdot x+b\n",
    "$$\n",
    "w与x都默认为列向量，两个列向量都不能点积，所以才要转置"
   ]
  },
  {
   "cell_type": "markdown",
   "id": "9111a4fc-8241-46c2-9966-fd47670fa1ca",
   "metadata": {},
   "source": [
    "**增广特征向量**进行简化：  \n",
    "x=(x_0=1,x_1,x_2,...x_m)  \n",
    "w=(w_0=b,w_1,w_2,...w_m)  \n",
    "$$y=w^T\\cdot x$$"
   ]
  },
  {
   "cell_type": "markdown",
   "id": "389319d7-d4dd-4727-9e1a-e1bb160a7430",
   "metadata": {},
   "source": [
    "**误差函数MSE：**（误差平方和的平均）  \n",
    "$$MSE=\\frac{1}{m}\\cdot \\sum_{i=1}^m \\cdot(ytrue_i-ypre_i)^2$$"
   ]
  },
  {
   "cell_type": "markdown",
   "id": "1aadf832-6de9-4e6a-ab8c-0daa9043af3a",
   "metadata": {},
   "source": [
    "**梯度grad:** 模型关于模型参数的偏导（一个向量）    \n",
    "$$grad=(\\frac{\\partial f}{\\partial x_1},\\frac{\\partial f}{\\partial x_2},...\\frac{\\partial f}{\\partial x_m})$$\n"
   ]
  },
  {
   "cell_type": "markdown",
   "id": "7ad878a9-c52c-46fc-a24c-7a6bf5bb46cd",
   "metadata": {},
   "source": [
    "$$\n",
    "\\begin{aligned}\n",
    "grad &=\\frac{\\partial MSE}{\\partial w} \\\\\n",
    "&=\\frac{1}{m}\\cdot \\sum_{i=1}^m \\cdot 2x_i \\cdot(w_i x_i-ytrue_i)\n",
    "\\end{aligned}\n",
    "$$\n"
   ]
  },
  {
   "cell_type": "markdown",
   "id": "f200b1f2-ba9b-4697-b8c8-90e4b012992a",
   "metadata": {},
   "source": [
    "**梯度下降更新算法**（批量更新）：  \n",
    "$$w=w- \\alpha \\cdot grad$$  \n",
    "其中$\\alpha$是学习率，此处grad是求当前权重的梯度，在每一轮更新中可以看作固定值"
   ]
  },
  {
   "cell_type": "markdown",
   "id": "6019850f-8edc-4d51-9652-5886ef5593d6",
   "metadata": {},
   "source": [
    "**常见评价函数：**"
   ]
  },
  {
   "cell_type": "markdown",
   "id": "0ad3f760-ea68-47ee-a004-228e72a11991",
   "metadata": {},
   "source": [
    "1、MSE  \n",
    "2、MAE：$\\frac{1}{m}\\cdot \\sum_{i=1}^m \\cdot|ytrue_i - ypre_i|$平均绝对误差，值越大误差越大，MAE$\\in (0, +\\infty)$  \n",
    "3、$R^2$(决定系数）：$R^2=1-\\frac{SS_res}{SS_tot}$  \n",
    "$R^2$是一种比例，解释模型变异占总变异的比例，如$R^2=0.8$表示80%的变异  \n",
    "$SS_res$是残差平方和$\\sum_{i=1}^m(ytrue_i-ypre_i)$    \n",
    "$SS_tot$是总平方和$\\sum_{i=1}^m(ytrue_i-yavr_i)$ yavr_i是真实值均值"
   ]
  },
  {
   "cell_type": "markdown",
   "id": "b4fb3ddb-bb67-4923-801c-3296ba38c2e3",
   "metadata": {},
   "source": [
    "**独热编码one-hot encoding:**  \n",
    "是将分类变量转为机器学习模型可以理解的数值形式的技术。  \n",
    "有k个类别的分类变量转化为k个二进制变量0/1"
   ]
  },
  {
   "cell_type": "markdown",
   "id": "5690e7d1-5436-461d-a514-06d42bc4d646",
   "metadata": {},
   "source": [
    "**标准化的含义:**  \n",
    "将一个数值型的特征转化为均值为0，标准差为1的分布。  \n",
    "标准差标准化：$\\frac{x-mean}{std}$  \n",
    "作用：很多机器学习算法对特征的尺度敏感，标准化后，所有特征在同一尺度上。模型可以平等的学习每一个特征的重要性。"
   ]
  },
  {
   "cell_type": "code",
   "execution_count": null,
   "id": "72ea45a7-8a9a-4b39-a78c-8d4b4d1bfa77",
   "metadata": {},
   "outputs": [],
   "source": []
  }
 ],
 "metadata": {
  "kernelspec": {
   "display_name": "Python (myshixunenvironment)",
   "language": "python",
   "name": "myshixunenvironment"
  },
  "language_info": {
   "codemirror_mode": {
    "name": "ipython",
    "version": 3
   },
   "file_extension": ".py",
   "mimetype": "text/x-python",
   "name": "python",
   "nbconvert_exporter": "python",
   "pygments_lexer": "ipython3",
   "version": "3.12.9"
  }
 },
 "nbformat": 4,
 "nbformat_minor": 5
}
